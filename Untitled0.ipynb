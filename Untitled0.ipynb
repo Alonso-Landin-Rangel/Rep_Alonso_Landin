{
  "nbformat": 4,
  "nbformat_minor": 0,
  "metadata": {
    "colab": {
      "name": "Untitled0.ipynb",
      "provenance": [],
      "authorship_tag": "ABX9TyMYbqpmKPsiSK7GwFZPf+oE",
      "include_colab_link": true
    },
    "kernelspec": {
      "name": "python3",
      "display_name": "Python 3"
    }
  },
  "cells": [
    {
      "cell_type": "markdown",
      "metadata": {
        "id": "view-in-github",
        "colab_type": "text"
      },
      "source": [
        "<a href=\"https://colab.research.google.com/github/Alonso-Landin-Rangel/Rep_Alonso_Landin/blob/main/Untitled0.ipynb\" target=\"_parent\"><img src=\"https://colab.research.google.com/assets/colab-badge.svg\" alt=\"Open In Colab\"/></a>"
      ]
    },
    {
      "cell_type": "code",
      "metadata": {
        "id": "ihmj4lZWNHZI"
      },
      "source": [
        "print ('Hola mundo!!!\\n')\r\n",
        "nombre = input(\"Ingresa tu nombre: \")\r\n",
        "apellido1 = input(\"\\nIngresa tu primer apellido: \")\r\n",
        "apellido2 = input(\"\\nIngresa tu segundo apellido: \")\r\n",
        "print (\"\\nMucho gusto conocerte\", nombre, apellido1, apellido2, \"!!!\")"
      ],
      "execution_count": null,
      "outputs": []
    }
  ]
}